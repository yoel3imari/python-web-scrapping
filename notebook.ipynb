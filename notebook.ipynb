{
 "cells": [
  {
   "cell_type": "code",
   "execution_count": 6,
   "metadata": {},
   "outputs": [],
   "source": [
    "import requests \n",
    "\n",
    "\n",
    "response = requests.get(\"https://en.wikipedia.org/wiki/Khabib_Nurmagomedov\")"
   ]
  },
  {
   "cell_type": "code",
   "execution_count": 7,
   "metadata": {},
   "outputs": [],
   "source": [
    "from bs4 import BeautifulSoup\n",
    "\n",
    "soup = BeautifulSoup(response.text, \"html.parser\")"
   ]
  },
  {
   "cell_type": "code",
   "execution_count": null,
   "metadata": {},
   "outputs": [
    {
     "name": "stdout",
     "output_type": "stream",
     "text": [
      "['Justin Gaethje', 'Dustin Poirier', 'Conor McGregor', 'Al Iaquinta', 'Edson Barboza', 'Michael Johnson', 'Darrell Horcher', 'Rafael dos Anjos', 'Pat Healy', 'Abel Trujillo', 'Thiago Tavares', 'Gleison Tibau', 'Kamal Shalorus', 'Arymarcel Santos\\n', 'Vadim Sandulskiy\\n', 'Khamiz Mamedov\\n', 'Kadzhik Abadzhyan\\n', 'Ashot Shaginyan\\n', 'Said Khalilov\\n', 'Alexander Agafonov\\n', 'Vitaliy Ostroskiy\\n', 'Ali Bagov', 'Shahbulat Shamhalaev', 'Eldar Eldarov\\n', 'Said Akhmed\\n', 'Shamil Abdulkerimov\\n', 'Ramazan Kurbanismailov\\n', 'Magomed Magomedov\\n', 'Vusal Bayramov\\n']\n"
     ]
    }
   ],
   "source": [
    "table = soup.select(\"table.wikitable\")[1]\n",
    "trs = table.find_all(\"tr\")\n",
    "opponents = []\n",
    "for tr in trs:\n",
    "    tds = tr.find_all(\"td\")\n",
    "    if not tds:\n",
    "        continue\n",
    "    opp_node = tds[2]\n",
    "    opp = opp_node.string\n",
    "    if opp is not None:\n",
    "        opponents.append(opp)\n",
    "        continue\n",
    "    opponents.append(opp_node.a.string)\n",
    "\n"
   ]
  },
  {
   "cell_type": "code",
   "execution_count": 38,
   "metadata": {},
   "outputs": [],
   "source": [
    "import json\n",
    "\n",
    "\n",
    "opp_json = json.dumps(opponents)\n",
    "with open(\"khabib_opponents.json\", \"w\", encoding=\"utf-8\") as f:\n",
    "    f.write(opp_json)"
   ]
  }
 ],
 "metadata": {
  "kernelspec": {
   "display_name": "Python 3 (ipykernel)",
   "language": "python",
   "name": "python3"
  }
 },
 "nbformat": 4,
 "nbformat_minor": 2
}
